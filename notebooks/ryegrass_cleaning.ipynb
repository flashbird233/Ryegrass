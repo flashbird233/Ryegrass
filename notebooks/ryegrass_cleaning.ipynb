{
 "cells": [
  {
   "cell_type": "code",
   "execution_count": 1,
   "id": "initial_id",
   "metadata": {
    "collapsed": true,
    "ExecuteTime": {
     "end_time": "2024-04-04T04:26:36.116403Z",
     "start_time": "2024-04-04T04:26:34.563925Z"
    }
   },
   "outputs": [
    {
     "name": "stderr",
     "output_type": "stream",
     "text": [
      "C:\\Users\\35299\\AppData\\Local\\Temp\\ipykernel_9732\\2839700899.py:4: DtypeWarning: Columns (1,3,4,6,7,8,9,10,11,12,13,14,15,16,20,21,22,23,30,32,34,35,37,38,39,40,41,47,48,50,51,52,54,60,61,62,63,66,67,68,70,71,74,78,80,81,84,87,90,91,98,99,100,101,102,104,106,107,108,109,110,111,130,131,132,133,134,135,136,137,138,139,151,152,154,162,163,165,168,169,170,171,173,174,191,194,202) have mixed types. Specify dtype option on import or set low_memory=False.\n",
      "  ryegrass_df = pd.read_csv('../data/ryegrass.csv')\n"
     ]
    },
    {
     "data": {
      "text/plain": "  dataResourceUid images raw_recordedBy dcterms:modified dcterms:language  \\\n0         dr10574    NaN     Rodway, L.       2013-12-09              NaN   \n1         dr10574    NaN    Wapstra, M.       2018-11-29              NaN   \n2         dr10574    NaN     Harris, S.       2010-10-01              NaN   \n3         dr10574    NaN     Harris, S.       2011-10-19              NaN   \n4         dr10574    NaN     Rowe, B.A.       2010-10-01              NaN   \n\n   dcterms:license rightsHolder dcterms:accessRights  \\\n0  CC-BY 4.0 (Int)          NaN                  NaN   \n1  CC-BY 4.0 (Int)          NaN                  NaN   \n2  CC-BY 4.0 (Int)          NaN                  NaN   \n3  CC-BY 4.0 (Int)          NaN                  NaN   \n4  CC-BY 4.0 (Int)          NaN                  NaN   \n\n  dcterms:bibliographicCitation references  ... rights source measurementID  \\\n0                           NaN        NaN  ...    NaN    NaN           NaN   \n1                           NaN        NaN  ...    NaN    NaN           NaN   \n2                           NaN        NaN  ...    NaN    NaN           NaN   \n3                           NaN        NaN  ...    NaN    NaN           NaN   \n4                           NaN        NaN  ...    NaN    NaN           NaN   \n\n  measurementType measurementUnit measurementDeterminedBy measurementAccuracy  \\\n0             NaN             NaN                     NaN                 NaN   \n1             NaN             NaN                     NaN                 NaN   \n2             NaN             NaN                     NaN                 NaN   \n3             NaN             NaN                     NaN                 NaN   \n4             NaN             NaN                     NaN                 NaN   \n\n  relatedResourceID  images.1    dcterms:type  \n0               NaN       NaN  PhysicalObject  \n1               NaN       NaN  PhysicalObject  \n2               NaN       NaN  PhysicalObject  \n3               NaN       NaN  PhysicalObject  \n4               NaN       NaN  PhysicalObject  \n\n[5 rows x 204 columns]",
      "text/html": "<div>\n<style scoped>\n    .dataframe tbody tr th:only-of-type {\n        vertical-align: middle;\n    }\n\n    .dataframe tbody tr th {\n        vertical-align: top;\n    }\n\n    .dataframe thead th {\n        text-align: right;\n    }\n</style>\n<table border=\"1\" class=\"dataframe\">\n  <thead>\n    <tr style=\"text-align: right;\">\n      <th></th>\n      <th>dataResourceUid</th>\n      <th>images</th>\n      <th>raw_recordedBy</th>\n      <th>dcterms:modified</th>\n      <th>dcterms:language</th>\n      <th>dcterms:license</th>\n      <th>rightsHolder</th>\n      <th>dcterms:accessRights</th>\n      <th>dcterms:bibliographicCitation</th>\n      <th>references</th>\n      <th>...</th>\n      <th>rights</th>\n      <th>source</th>\n      <th>measurementID</th>\n      <th>measurementType</th>\n      <th>measurementUnit</th>\n      <th>measurementDeterminedBy</th>\n      <th>measurementAccuracy</th>\n      <th>relatedResourceID</th>\n      <th>images.1</th>\n      <th>dcterms:type</th>\n    </tr>\n  </thead>\n  <tbody>\n    <tr>\n      <th>0</th>\n      <td>dr10574</td>\n      <td>NaN</td>\n      <td>Rodway, L.</td>\n      <td>2013-12-09</td>\n      <td>NaN</td>\n      <td>CC-BY 4.0 (Int)</td>\n      <td>NaN</td>\n      <td>NaN</td>\n      <td>NaN</td>\n      <td>NaN</td>\n      <td>...</td>\n      <td>NaN</td>\n      <td>NaN</td>\n      <td>NaN</td>\n      <td>NaN</td>\n      <td>NaN</td>\n      <td>NaN</td>\n      <td>NaN</td>\n      <td>NaN</td>\n      <td>NaN</td>\n      <td>PhysicalObject</td>\n    </tr>\n    <tr>\n      <th>1</th>\n      <td>dr10574</td>\n      <td>NaN</td>\n      <td>Wapstra, M.</td>\n      <td>2018-11-29</td>\n      <td>NaN</td>\n      <td>CC-BY 4.0 (Int)</td>\n      <td>NaN</td>\n      <td>NaN</td>\n      <td>NaN</td>\n      <td>NaN</td>\n      <td>...</td>\n      <td>NaN</td>\n      <td>NaN</td>\n      <td>NaN</td>\n      <td>NaN</td>\n      <td>NaN</td>\n      <td>NaN</td>\n      <td>NaN</td>\n      <td>NaN</td>\n      <td>NaN</td>\n      <td>PhysicalObject</td>\n    </tr>\n    <tr>\n      <th>2</th>\n      <td>dr10574</td>\n      <td>NaN</td>\n      <td>Harris, S.</td>\n      <td>2010-10-01</td>\n      <td>NaN</td>\n      <td>CC-BY 4.0 (Int)</td>\n      <td>NaN</td>\n      <td>NaN</td>\n      <td>NaN</td>\n      <td>NaN</td>\n      <td>...</td>\n      <td>NaN</td>\n      <td>NaN</td>\n      <td>NaN</td>\n      <td>NaN</td>\n      <td>NaN</td>\n      <td>NaN</td>\n      <td>NaN</td>\n      <td>NaN</td>\n      <td>NaN</td>\n      <td>PhysicalObject</td>\n    </tr>\n    <tr>\n      <th>3</th>\n      <td>dr10574</td>\n      <td>NaN</td>\n      <td>Harris, S.</td>\n      <td>2011-10-19</td>\n      <td>NaN</td>\n      <td>CC-BY 4.0 (Int)</td>\n      <td>NaN</td>\n      <td>NaN</td>\n      <td>NaN</td>\n      <td>NaN</td>\n      <td>...</td>\n      <td>NaN</td>\n      <td>NaN</td>\n      <td>NaN</td>\n      <td>NaN</td>\n      <td>NaN</td>\n      <td>NaN</td>\n      <td>NaN</td>\n      <td>NaN</td>\n      <td>NaN</td>\n      <td>PhysicalObject</td>\n    </tr>\n    <tr>\n      <th>4</th>\n      <td>dr10574</td>\n      <td>NaN</td>\n      <td>Rowe, B.A.</td>\n      <td>2010-10-01</td>\n      <td>NaN</td>\n      <td>CC-BY 4.0 (Int)</td>\n      <td>NaN</td>\n      <td>NaN</td>\n      <td>NaN</td>\n      <td>NaN</td>\n      <td>...</td>\n      <td>NaN</td>\n      <td>NaN</td>\n      <td>NaN</td>\n      <td>NaN</td>\n      <td>NaN</td>\n      <td>NaN</td>\n      <td>NaN</td>\n      <td>NaN</td>\n      <td>NaN</td>\n      <td>PhysicalObject</td>\n    </tr>\n  </tbody>\n</table>\n<p>5 rows × 204 columns</p>\n</div>"
     },
     "execution_count": 1,
     "metadata": {},
     "output_type": "execute_result"
    }
   ],
   "source": [
    "import pandas as pd\n",
    "\n",
    "# Read the ryegrass data\n",
    "ryegrass_df = pd.read_csv('../data/ryegrass.csv')\n",
    "ryegrass_df.head()"
   ]
  },
  {
   "cell_type": "code",
   "outputs": [
    {
     "data": {
      "text/plain": "  dcterms:modified   recordedBy    country countryCode  decimalLatitude  \\\n0       2013-12-09   Rodway, L.  Australia          AU       -42.883333   \n1       2018-11-29  Wapstra, M.  Australia          AU       -41.371614   \n2       2010-10-01   Harris, S.  Australia          AU       -39.700000   \n3       2011-10-19   Harris, S.  Australia          AU       -40.233333   \n4       2010-10-01   Rowe, B.A.  Australia          AU       -42.916667   \n\n   decimalLongitude  coordinateUncertaintyInMeters  \\\n0        147.316667                        10000.0   \n1        147.280147                           50.0   \n2        147.916667                         1000.0   \n3        148.250000                         1000.0   \n4        147.250000                        10000.0   \n\n                                      taxonConceptID    scientificName  \\\n0   https://id.biodiversity.org.au/node/apni/2919175    Lolium rigidum   \n1  https://id.biodiversity.org.au/taxon/apni/5144...            Lolium   \n2   https://id.biodiversity.org.au/node/apni/2892858    Lolium perenne   \n3   https://id.biodiversity.org.au/node/apni/2887951  Lolium loliaceum   \n4   https://id.biodiversity.org.au/node/apni/2892858    Lolium perenne   \n\n        vernacularName  \n0     Wimmera Ryegrass  \n1             Ryegrass  \n2  Perennial Rye-grass  \n3       Rigid Ryegrass  \n4  Perennial Rye-grass  ",
      "text/html": "<div>\n<style scoped>\n    .dataframe tbody tr th:only-of-type {\n        vertical-align: middle;\n    }\n\n    .dataframe tbody tr th {\n        vertical-align: top;\n    }\n\n    .dataframe thead th {\n        text-align: right;\n    }\n</style>\n<table border=\"1\" class=\"dataframe\">\n  <thead>\n    <tr style=\"text-align: right;\">\n      <th></th>\n      <th>dcterms:modified</th>\n      <th>recordedBy</th>\n      <th>country</th>\n      <th>countryCode</th>\n      <th>decimalLatitude</th>\n      <th>decimalLongitude</th>\n      <th>coordinateUncertaintyInMeters</th>\n      <th>taxonConceptID</th>\n      <th>scientificName</th>\n      <th>vernacularName</th>\n    </tr>\n  </thead>\n  <tbody>\n    <tr>\n      <th>0</th>\n      <td>2013-12-09</td>\n      <td>Rodway, L.</td>\n      <td>Australia</td>\n      <td>AU</td>\n      <td>-42.883333</td>\n      <td>147.316667</td>\n      <td>10000.0</td>\n      <td>https://id.biodiversity.org.au/node/apni/2919175</td>\n      <td>Lolium rigidum</td>\n      <td>Wimmera Ryegrass</td>\n    </tr>\n    <tr>\n      <th>1</th>\n      <td>2018-11-29</td>\n      <td>Wapstra, M.</td>\n      <td>Australia</td>\n      <td>AU</td>\n      <td>-41.371614</td>\n      <td>147.280147</td>\n      <td>50.0</td>\n      <td>https://id.biodiversity.org.au/taxon/apni/5144...</td>\n      <td>Lolium</td>\n      <td>Ryegrass</td>\n    </tr>\n    <tr>\n      <th>2</th>\n      <td>2010-10-01</td>\n      <td>Harris, S.</td>\n      <td>Australia</td>\n      <td>AU</td>\n      <td>-39.700000</td>\n      <td>147.916667</td>\n      <td>1000.0</td>\n      <td>https://id.biodiversity.org.au/node/apni/2892858</td>\n      <td>Lolium perenne</td>\n      <td>Perennial Rye-grass</td>\n    </tr>\n    <tr>\n      <th>3</th>\n      <td>2011-10-19</td>\n      <td>Harris, S.</td>\n      <td>Australia</td>\n      <td>AU</td>\n      <td>-40.233333</td>\n      <td>148.250000</td>\n      <td>1000.0</td>\n      <td>https://id.biodiversity.org.au/node/apni/2887951</td>\n      <td>Lolium loliaceum</td>\n      <td>Rigid Ryegrass</td>\n    </tr>\n    <tr>\n      <th>4</th>\n      <td>2010-10-01</td>\n      <td>Rowe, B.A.</td>\n      <td>Australia</td>\n      <td>AU</td>\n      <td>-42.916667</td>\n      <td>147.250000</td>\n      <td>10000.0</td>\n      <td>https://id.biodiversity.org.au/node/apni/2892858</td>\n      <td>Lolium perenne</td>\n      <td>Perennial Rye-grass</td>\n    </tr>\n  </tbody>\n</table>\n</div>"
     },
     "execution_count": 6,
     "metadata": {},
     "output_type": "execute_result"
    }
   ],
   "source": [
    "# Build a new df to store selected columns\n",
    "ryegrass_selected = ryegrass_df[\n",
    "    [\"dcterms:modified\", \"recordedBy\", \"country\", \"countryCode\", \"decimalLatitude\",\n",
    "     \"decimalLongitude\", \"coordinateUncertaintyInMeters\", \"taxonConceptID\", \"scientificName\", \"vernacularName\"]]\n",
    "ryegrass_selected.head()"
   ],
   "metadata": {
    "collapsed": false,
    "ExecuteTime": {
     "end_time": "2024-04-04T04:36:42.388574Z",
     "start_time": "2024-04-04T04:36:42.359036Z"
    }
   },
   "id": "3cf6e0f2595f7d1b",
   "execution_count": 6
  },
  {
   "cell_type": "code",
   "outputs": [
    {
     "data": {
      "text/plain": "        dcterms:modified                             recordedBy  \\\n0             2018-11-29                            Wapstra, M.   \n1             2018-11-30                         Buchanan, A.M.   \n2             2020-02-13                         de Salas, M.F.   \n3             2019-02-13                         Buchanan, A.M.   \n4             2022-03-25  Leitch, E. | Potter, T. | Starkey, M.   \n..                   ...                                    ...   \n95  2023-01-15T13:25:27Z                       Mesaglio, Thomas   \n96  2022-11-01T10:04:10Z                                    NaN   \n97  2023-12-12T22:46:20Z                                    NaN   \n98  2022-04-06T11:06:30Z                           Carey, Helen   \n99  2022-11-17T03:22:17Z                       Mesaglio, Thomas   \n\n    decimalLatitude  decimalLongitude  \\\n0        -41.371614        147.280147   \n1        -40.124260        148.017374   \n2        -42.549417        147.932222   \n3        -42.847507        147.323817   \n4        -42.052067        147.416808   \n..              ...               ...   \n95       -31.629244        116.656661   \n96       -38.356612        146.410201   \n97       -37.686497        145.041833   \n98       -36.909913        149.480874   \n99       -33.941772        151.050050   \n\n                                       taxonConceptID       scientificName  \\\n0   https://id.biodiversity.org.au/taxon/apni/5144...               Lolium   \n1   https://id.biodiversity.org.au/taxon/apni/5144...  Lolium arundinaceum   \n2   https://id.biodiversity.org.au/taxon/apni/5144...  Lolium arundinaceum   \n3   https://id.biodiversity.org.au/taxon/apni/5144...               Lolium   \n4    https://id.biodiversity.org.au/node/apni/2892858       Lolium perenne   \n..                                                ...                  ...   \n95   https://id.biodiversity.org.au/node/apni/2892858       Lolium perenne   \n96   https://id.biodiversity.org.au/node/apni/2892858       Lolium perenne   \n97   https://id.biodiversity.org.au/node/apni/2919175       Lolium rigidum   \n98   https://id.biodiversity.org.au/node/apni/2901550   Lolium multiflorum   \n99   https://id.biodiversity.org.au/node/apni/2900108    Lolium temulentum   \n\n         vernacularName  \n0              Ryegrass  \n1           Tall Fescue  \n2           Tall Fescue  \n3              Ryegrass  \n4   Perennial Rye-grass  \n..                  ...  \n95  Perennial Rye-grass  \n96  Perennial Rye-grass  \n97     Wimmera Ryegrass  \n98     Italian Ryegrass  \n99               Darnel  \n\n[100 rows x 7 columns]",
      "text/html": "<div>\n<style scoped>\n    .dataframe tbody tr th:only-of-type {\n        vertical-align: middle;\n    }\n\n    .dataframe tbody tr th {\n        vertical-align: top;\n    }\n\n    .dataframe thead th {\n        text-align: right;\n    }\n</style>\n<table border=\"1\" class=\"dataframe\">\n  <thead>\n    <tr style=\"text-align: right;\">\n      <th></th>\n      <th>dcterms:modified</th>\n      <th>recordedBy</th>\n      <th>decimalLatitude</th>\n      <th>decimalLongitude</th>\n      <th>taxonConceptID</th>\n      <th>scientificName</th>\n      <th>vernacularName</th>\n    </tr>\n  </thead>\n  <tbody>\n    <tr>\n      <th>0</th>\n      <td>2018-11-29</td>\n      <td>Wapstra, M.</td>\n      <td>-41.371614</td>\n      <td>147.280147</td>\n      <td>https://id.biodiversity.org.au/taxon/apni/5144...</td>\n      <td>Lolium</td>\n      <td>Ryegrass</td>\n    </tr>\n    <tr>\n      <th>1</th>\n      <td>2018-11-30</td>\n      <td>Buchanan, A.M.</td>\n      <td>-40.124260</td>\n      <td>148.017374</td>\n      <td>https://id.biodiversity.org.au/taxon/apni/5144...</td>\n      <td>Lolium arundinaceum</td>\n      <td>Tall Fescue</td>\n    </tr>\n    <tr>\n      <th>2</th>\n      <td>2020-02-13</td>\n      <td>de Salas, M.F.</td>\n      <td>-42.549417</td>\n      <td>147.932222</td>\n      <td>https://id.biodiversity.org.au/taxon/apni/5144...</td>\n      <td>Lolium arundinaceum</td>\n      <td>Tall Fescue</td>\n    </tr>\n    <tr>\n      <th>3</th>\n      <td>2019-02-13</td>\n      <td>Buchanan, A.M.</td>\n      <td>-42.847507</td>\n      <td>147.323817</td>\n      <td>https://id.biodiversity.org.au/taxon/apni/5144...</td>\n      <td>Lolium</td>\n      <td>Ryegrass</td>\n    </tr>\n    <tr>\n      <th>4</th>\n      <td>2022-03-25</td>\n      <td>Leitch, E. | Potter, T. | Starkey, M.</td>\n      <td>-42.052067</td>\n      <td>147.416808</td>\n      <td>https://id.biodiversity.org.au/node/apni/2892858</td>\n      <td>Lolium perenne</td>\n      <td>Perennial Rye-grass</td>\n    </tr>\n    <tr>\n      <th>...</th>\n      <td>...</td>\n      <td>...</td>\n      <td>...</td>\n      <td>...</td>\n      <td>...</td>\n      <td>...</td>\n      <td>...</td>\n    </tr>\n    <tr>\n      <th>95</th>\n      <td>2023-01-15T13:25:27Z</td>\n      <td>Mesaglio, Thomas</td>\n      <td>-31.629244</td>\n      <td>116.656661</td>\n      <td>https://id.biodiversity.org.au/node/apni/2892858</td>\n      <td>Lolium perenne</td>\n      <td>Perennial Rye-grass</td>\n    </tr>\n    <tr>\n      <th>96</th>\n      <td>2022-11-01T10:04:10Z</td>\n      <td>NaN</td>\n      <td>-38.356612</td>\n      <td>146.410201</td>\n      <td>https://id.biodiversity.org.au/node/apni/2892858</td>\n      <td>Lolium perenne</td>\n      <td>Perennial Rye-grass</td>\n    </tr>\n    <tr>\n      <th>97</th>\n      <td>2023-12-12T22:46:20Z</td>\n      <td>NaN</td>\n      <td>-37.686497</td>\n      <td>145.041833</td>\n      <td>https://id.biodiversity.org.au/node/apni/2919175</td>\n      <td>Lolium rigidum</td>\n      <td>Wimmera Ryegrass</td>\n    </tr>\n    <tr>\n      <th>98</th>\n      <td>2022-04-06T11:06:30Z</td>\n      <td>Carey, Helen</td>\n      <td>-36.909913</td>\n      <td>149.480874</td>\n      <td>https://id.biodiversity.org.au/node/apni/2901550</td>\n      <td>Lolium multiflorum</td>\n      <td>Italian Ryegrass</td>\n    </tr>\n    <tr>\n      <th>99</th>\n      <td>2022-11-17T03:22:17Z</td>\n      <td>Mesaglio, Thomas</td>\n      <td>-33.941772</td>\n      <td>151.050050</td>\n      <td>https://id.biodiversity.org.au/node/apni/2900108</td>\n      <td>Lolium temulentum</td>\n      <td>Darnel</td>\n    </tr>\n  </tbody>\n</table>\n<p>100 rows × 7 columns</p>\n</div>"
     },
     "execution_count": 22,
     "metadata": {},
     "output_type": "execute_result"
    }
   ],
   "source": [
    "# Only keep the Australia data\n",
    "ryegrass_selected2 = ryegrass_selected[ryegrass_selected[\"countryCode\"] == \"AU\"].reset_index(drop=True)\n",
    "# Drop the country and countryCode columns\n",
    "ryegrass_selected2 = ryegrass_selected2.drop(columns=[\"country\", \"countryCode\"])\n",
    "# Remove the records with coordinateUncertaintyInMeters > 500\n",
    "ryegrass_selected2 = ryegrass_selected2[ryegrass_selected2[\"coordinateUncertaintyInMeters\"] <= 500].reset_index(\n",
    "    drop=True)\n",
    "# Drop the coordinateUncertaintyInMeters column\n",
    "ryegrass_selected2 = ryegrass_selected2.drop(columns=[\"coordinateUncertaintyInMeters\"])\n",
    "# Remove the null value in dcterms:modified, decimalLatitude, decimalLongitude columns\n",
    "ryegrass_selected2 = ryegrass_selected2.dropna(\n",
    "    subset=[\"dcterms:modified\", \"decimalLatitude\", \"decimalLongitude\"]).reset_index(drop=True)\n",
    "# Fill the null value in vernacularName column with ryegrass\n",
    "ryegrass_selected2[\"vernacularName\"] = ryegrass_selected2[\"vernacularName\"].fillna(\"ryegrass\")\n",
    "# Show the first 5 rows \n",
    "ryegrass_selected2.head(100)"
   ],
   "metadata": {
    "collapsed": false,
    "ExecuteTime": {
     "end_time": "2024-04-04T05:30:21.713368Z",
     "start_time": "2024-04-04T05:30:21.674634Z"
    }
   },
   "id": "64e4d5290f520353",
   "execution_count": 22
  },
  {
   "cell_type": "code",
   "outputs": [],
   "source": [
    "# Check the dcterms:modified with contains \" \"\n",
    "for i in range(len(ryegrass_selected2)):\n",
    "    if \" \" in ryegrass_selected2.iloc[i][\"dcterms:modified\"]:\n",
    "        print(ryegrass_selected2.iloc[i][\"dcterms:modified\"])"
   ],
   "metadata": {
    "collapsed": false,
    "ExecuteTime": {
     "end_time": "2024-04-04T05:45:20.966723Z",
     "start_time": "2024-04-04T05:45:20.605343Z"
    }
   },
   "id": "c19bb0f74591ee58",
   "execution_count": 27
  },
  {
   "cell_type": "code",
   "outputs": [
    {
     "data": {
      "text/plain": "       dcterms:modified                             recordedBy  \\\n0  2018-11-29T00:00:00Z                            Wapstra, M.   \n1  2018-11-30T00:00:00Z                         Buchanan, A.M.   \n2  2020-02-13T00:00:00Z                         de Salas, M.F.   \n3  2019-02-13T00:00:00Z                         Buchanan, A.M.   \n4  2022-03-25T00:00:00Z  Leitch, E. | Potter, T. | Starkey, M.   \n\n   decimalLatitude  decimalLongitude  \\\n0       -41.371614        147.280147   \n1       -40.124260        148.017374   \n2       -42.549417        147.932222   \n3       -42.847507        147.323817   \n4       -42.052067        147.416808   \n\n                                      taxonConceptID       scientificName  \\\n0  https://id.biodiversity.org.au/taxon/apni/5144...               Lolium   \n1  https://id.biodiversity.org.au/taxon/apni/5144...  Lolium arundinaceum   \n2  https://id.biodiversity.org.au/taxon/apni/5144...  Lolium arundinaceum   \n3  https://id.biodiversity.org.au/taxon/apni/5144...               Lolium   \n4   https://id.biodiversity.org.au/node/apni/2892858       Lolium perenne   \n\n        vernacularName  \n0             Ryegrass  \n1          Tall Fescue  \n2          Tall Fescue  \n3             Ryegrass  \n4  Perennial Rye-grass  ",
      "text/html": "<div>\n<style scoped>\n    .dataframe tbody tr th:only-of-type {\n        vertical-align: middle;\n    }\n\n    .dataframe tbody tr th {\n        vertical-align: top;\n    }\n\n    .dataframe thead th {\n        text-align: right;\n    }\n</style>\n<table border=\"1\" class=\"dataframe\">\n  <thead>\n    <tr style=\"text-align: right;\">\n      <th></th>\n      <th>dcterms:modified</th>\n      <th>recordedBy</th>\n      <th>decimalLatitude</th>\n      <th>decimalLongitude</th>\n      <th>taxonConceptID</th>\n      <th>scientificName</th>\n      <th>vernacularName</th>\n    </tr>\n  </thead>\n  <tbody>\n    <tr>\n      <th>0</th>\n      <td>2018-11-29T00:00:00Z</td>\n      <td>Wapstra, M.</td>\n      <td>-41.371614</td>\n      <td>147.280147</td>\n      <td>https://id.biodiversity.org.au/taxon/apni/5144...</td>\n      <td>Lolium</td>\n      <td>Ryegrass</td>\n    </tr>\n    <tr>\n      <th>1</th>\n      <td>2018-11-30T00:00:00Z</td>\n      <td>Buchanan, A.M.</td>\n      <td>-40.124260</td>\n      <td>148.017374</td>\n      <td>https://id.biodiversity.org.au/taxon/apni/5144...</td>\n      <td>Lolium arundinaceum</td>\n      <td>Tall Fescue</td>\n    </tr>\n    <tr>\n      <th>2</th>\n      <td>2020-02-13T00:00:00Z</td>\n      <td>de Salas, M.F.</td>\n      <td>-42.549417</td>\n      <td>147.932222</td>\n      <td>https://id.biodiversity.org.au/taxon/apni/5144...</td>\n      <td>Lolium arundinaceum</td>\n      <td>Tall Fescue</td>\n    </tr>\n    <tr>\n      <th>3</th>\n      <td>2019-02-13T00:00:00Z</td>\n      <td>Buchanan, A.M.</td>\n      <td>-42.847507</td>\n      <td>147.323817</td>\n      <td>https://id.biodiversity.org.au/taxon/apni/5144...</td>\n      <td>Lolium</td>\n      <td>Ryegrass</td>\n    </tr>\n    <tr>\n      <th>4</th>\n      <td>2022-03-25T00:00:00Z</td>\n      <td>Leitch, E. | Potter, T. | Starkey, M.</td>\n      <td>-42.052067</td>\n      <td>147.416808</td>\n      <td>https://id.biodiversity.org.au/node/apni/2892858</td>\n      <td>Lolium perenne</td>\n      <td>Perennial Rye-grass</td>\n    </tr>\n  </tbody>\n</table>\n</div>"
     },
     "execution_count": 23,
     "metadata": {},
     "output_type": "execute_result"
    }
   ],
   "source": [
    "# Change the error datetime to 2022-11-29T13:47:11Z format\n",
    "ryegrass_selected3 = ryegrass_selected2.copy()\n",
    "for i in range(len(ryegrass_selected3)):\n",
    "    if len(ryegrass_selected3.iloc[i][\"dcterms:modified\"]) <= 10:\n",
    "        date = ryegrass_selected3.iloc[i][\"dcterms:modified\"]\n",
    "        correct_date = date + \"T00:00:00Z\"\n",
    "        ryegrass_selected3.at[i, \"dcterms:modified\"] = correct_date\n",
    "ryegrass_selected3.head()"
   ],
   "metadata": {
    "collapsed": false,
    "ExecuteTime": {
     "end_time": "2024-04-04T05:36:58.663939Z",
     "start_time": "2024-04-04T05:36:58.315692Z"
    }
   },
   "id": "716b8df870802b48",
   "execution_count": 23
  },
  {
   "cell_type": "code",
   "outputs": [],
   "source": [
    "# import json\n",
    "import json\n",
    "\n",
    "# Change the data structure to Django needed\n",
    "result = []\n",
    "for i in range(len(ryegrass_selected3)):\n",
    "    result.append({\n",
    "        \"model\": \"Breathe_Ease_Home.ryegrass\",\n",
    "        \"pk\": i + 1,\n",
    "        \"fields\": {\n",
    "            \"rye_lat\": float(ryegrass_selected3.iloc[i][\"decimalLatitude\"]),\n",
    "            \"rye_lon\": float(ryegrass_selected3.iloc[i][\"decimalLongitude\"]),\n",
    "            \"rye_record_by\": str(ryegrass_selected3.iloc[i][\"recordedBy\"]),\n",
    "            \"rye_date\": str(ryegrass_selected3.iloc[i][\"dcterms:modified\"]),\n",
    "            \"rye_scientific_name\": str(ryegrass_selected3.iloc[i][\"scientificName\"]),\n",
    "            \"rye_vernacular_name\": str(ryegrass_selected3.iloc[i][\"vernacularName\"]),\n",
    "            \"rye_taxon_concept_id\": str(ryegrass_selected3.iloc[i][\"taxonConceptID\"])\n",
    "        }\n",
    "    })\n",
    "\n",
    "# Write the result to a json file\n",
    "with open('../data/ryegrass_cleaned.json', 'w') as f:\n",
    "    json.dump(result, f, indent=4)"
   ],
   "metadata": {
    "collapsed": false,
    "ExecuteTime": {
     "end_time": "2024-04-04T05:37:28.883912Z",
     "start_time": "2024-04-04T05:37:26.130004Z"
    }
   },
   "id": "e1503cae7b50ff51",
   "execution_count": 24
  },
  {
   "cell_type": "code",
   "outputs": [],
   "source": [],
   "metadata": {
    "collapsed": false
   },
   "id": "aeb88b48ffddcb1e"
  }
 ],
 "metadata": {
  "kernelspec": {
   "display_name": "Python 3",
   "language": "python",
   "name": "python3"
  },
  "language_info": {
   "codemirror_mode": {
    "name": "ipython",
    "version": 2
   },
   "file_extension": ".py",
   "mimetype": "text/x-python",
   "name": "python",
   "nbconvert_exporter": "python",
   "pygments_lexer": "ipython2",
   "version": "2.7.6"
  }
 },
 "nbformat": 4,
 "nbformat_minor": 5
}
