{
 "cells": [
  {
   "cell_type": "code",
   "execution_count": 7,
   "id": "initial_id",
   "metadata": {
    "collapsed": true,
    "ExecuteTime": {
     "end_time": "2024-04-03T01:36:03.080156Z",
     "start_time": "2024-04-03T01:36:03.000640Z"
    }
   },
   "outputs": [
    {
     "data": {
      "text/plain": "   id  postcode                          suburb state  latitude  longitude\n0   1       200  Australian National University   ACT    -35.28     149.12\n1   2       221                          Barton   ACT    -35.20     149.10\n2   3       800                          Darwin    NT    -12.80     130.96\n3   4       801                          Darwin    NT    -12.80     130.96\n4   5       804                           Parap    NT    -12.43     130.84",
      "text/html": "<div>\n<style scoped>\n    .dataframe tbody tr th:only-of-type {\n        vertical-align: middle;\n    }\n\n    .dataframe tbody tr th {\n        vertical-align: top;\n    }\n\n    .dataframe thead th {\n        text-align: right;\n    }\n</style>\n<table border=\"1\" class=\"dataframe\">\n  <thead>\n    <tr style=\"text-align: right;\">\n      <th></th>\n      <th>id</th>\n      <th>postcode</th>\n      <th>suburb</th>\n      <th>state</th>\n      <th>latitude</th>\n      <th>longitude</th>\n    </tr>\n  </thead>\n  <tbody>\n    <tr>\n      <th>0</th>\n      <td>1</td>\n      <td>200</td>\n      <td>Australian National University</td>\n      <td>ACT</td>\n      <td>-35.28</td>\n      <td>149.12</td>\n    </tr>\n    <tr>\n      <th>1</th>\n      <td>2</td>\n      <td>221</td>\n      <td>Barton</td>\n      <td>ACT</td>\n      <td>-35.20</td>\n      <td>149.10</td>\n    </tr>\n    <tr>\n      <th>2</th>\n      <td>3</td>\n      <td>800</td>\n      <td>Darwin</td>\n      <td>NT</td>\n      <td>-12.80</td>\n      <td>130.96</td>\n    </tr>\n    <tr>\n      <th>3</th>\n      <td>4</td>\n      <td>801</td>\n      <td>Darwin</td>\n      <td>NT</td>\n      <td>-12.80</td>\n      <td>130.96</td>\n    </tr>\n    <tr>\n      <th>4</th>\n      <td>5</td>\n      <td>804</td>\n      <td>Parap</td>\n      <td>NT</td>\n      <td>-12.43</td>\n      <td>130.84</td>\n    </tr>\n  </tbody>\n</table>\n</div>"
     },
     "execution_count": 7,
     "metadata": {},
     "output_type": "execute_result"
    }
   ],
   "source": [
    "# import pandas\n",
    "import pandas as pd\n",
    "\n",
    "# Load the json file to dataframe\n",
    "df = pd.read_json('../data/location.json')\n",
    "df.head()"
   ]
  },
  {
   "cell_type": "code",
   "outputs": [],
   "source": [
    "# Reset the json format to Django\n",
    "result = []\n",
    "for i in range(len(df)):\n",
    "    result.append({\n",
    "        \"model\": \"Breathe_Ease_Home.location\",\n",
    "        \"pk\": int(df['id'][i]),\n",
    "        \"fields\": {\n",
    "            \"loc_postcode\": str(df['postcode'][i]),\n",
    "            \"loc_suburb\": str(df['suburb'][i]),\n",
    "            \"loc_state\": str(df['state'][i]),\n",
    "            \"loc_lat\": float(df['latitude'][i]),\n",
    "            \"loc_long\": float(df['longitude'][i])\n",
    "        }\n",
    "    })\n"
   ],
   "metadata": {
    "collapsed": false,
    "ExecuteTime": {
     "end_time": "2024-04-03T01:36:03.769154Z",
     "start_time": "2024-04-03T01:36:03.082157Z"
    }
   },
   "id": "87648930202335f7",
   "execution_count": 8
  },
  {
   "cell_type": "code",
   "outputs": [],
   "source": [
    "# import json\n",
    "import json\n",
    "# Save the result to json file\n",
    "with open('../data/location_cleaned.json', 'w') as f:\n",
    "    json.dump(result, f, indent=4)"
   ],
   "metadata": {
    "collapsed": false,
    "ExecuteTime": {
     "end_time": "2024-04-03T01:36:04.050283Z",
     "start_time": "2024-04-03T01:36:03.771154Z"
    }
   },
   "id": "2bad48a7c180dc9b",
   "execution_count": 9
  },
  {
   "cell_type": "code",
   "outputs": [],
   "source": [],
   "metadata": {
    "collapsed": false,
    "ExecuteTime": {
     "end_time": "2024-04-03T01:36:04.065809Z",
     "start_time": "2024-04-03T01:36:04.051799Z"
    }
   },
   "id": "14a282e642d364de",
   "execution_count": 9
  }
 ],
 "metadata": {
  "kernelspec": {
   "display_name": "Python 3",
   "language": "python",
   "name": "python3"
  },
  "language_info": {
   "codemirror_mode": {
    "name": "ipython",
    "version": 2
   },
   "file_extension": ".py",
   "mimetype": "text/x-python",
   "name": "python",
   "nbconvert_exporter": "python",
   "pygments_lexer": "ipython2",
   "version": "2.7.6"
  }
 },
 "nbformat": 4,
 "nbformat_minor": 5
}
