{
 "cells": [
  {
   "cell_type": "code",
   "id": "initial_id",
   "metadata": {
    "collapsed": true,
    "ExecuteTime": {
     "end_time": "2024-04-08T07:15:50.947217Z",
     "start_time": "2024-04-08T07:15:50.929640Z"
    }
   },
   "source": [
    "\n",
    "import json\n",
    "\n",
    "import pandas as pd\n",
    "import requests"
   ],
   "outputs": [],
   "execution_count": 70
  },
  {
   "metadata": {
    "ExecuteTime": {
     "end_time": "2024-04-08T07:03:39.214879Z",
     "start_time": "2024-04-08T07:03:38.968424Z"
    }
   },
   "cell_type": "code",
   "source": [
    "# Request the API \n",
    "response = requests.get(\n",
    "    'https://api.ala.org.au/occurrences/occurrences/search?q=lsid%3Ahttps%3A%2F%2Fid.biodiversity.org.au%2Ftaxon%2Fapni%2F51442752&qualityProfile=ALA&qc=-_nest_parent_%3A*')\n",
    "# Change the format to json\n",
    "response = json.loads(response.text)\n",
    "print(type(response))"
   ],
   "id": "d7fd1f744e5bcdaa",
   "outputs": [
    {
     "name": "stdout",
     "output_type": "stream",
     "text": [
      "<class 'dict'>\n"
     ]
    }
   ],
   "execution_count": 52
  },
  {
   "metadata": {
    "ExecuteTime": {
     "end_time": "2024-04-08T07:03:39.229897Z",
     "start_time": "2024-04-08T07:03:39.216879Z"
    }
   },
   "cell_type": "code",
   "source": [
    "# get occurrence\n",
    "records = response['occurrences']\n",
    "print(type(records))"
   ],
   "id": "67295a82ff46dd36",
   "outputs": [
    {
     "name": "stdout",
     "output_type": "stream",
     "text": [
      "<class 'list'>\n"
     ]
    }
   ],
   "execution_count": 53
  },
  {
   "metadata": {
    "ExecuteTime": {
     "end_time": "2024-04-08T07:03:39.244793Z",
     "start_time": "2024-04-08T07:03:39.230898Z"
    }
   },
   "cell_type": "code",
   "source": "print(records[0])",
   "id": "9a165db66735c29",
   "outputs": [
    {
     "name": "stdout",
     "output_type": "stream",
     "text": [
      "{'uuid': '68032ceb-797e-448f-bb8b-cdaa8dad664d', 'occurrenceID': '736230', 'raw_catalogNumber': '736230', 'taxonConceptID': 'https://id.biodiversity.org.au/node/apni/2919175', 'eventDate': 910137600000, 'scientificName': 'Lolium rigidum', 'vernacularName': 'Wimmera Ryegrass', 'taxonRank': 'species', 'taxonRankID': 7000, 'country': 'Australia', 'kingdom': 'Plantae', 'phylum': 'Charophyta', 'classs': 'Equisetopsida', 'order': 'Poales', 'family': 'Poaceae', 'genus': 'Lolium', 'genusGuid': 'https://id.biodiversity.org.au/taxon/apni/51442752', 'species': 'Lolium rigidum', 'speciesGuid': 'https://id.biodiversity.org.au/node/apni/2919175', 'stateProvince': 'Victoria', 'decimalLatitude': -36.3133, 'decimalLongitude': 144.5519, 'coordinateUncertaintyInMeters': 1.5, 'year': 1998, 'month': '11', 'basisOfRecord': 'HUMAN_OBSERVATION', 'dataResourceUid': 'dr1097', 'dataResourceName': 'Victorian Biodiversity Atlas', 'assertions': ['MISSING_TAXONRANK', 'MISSING_GEOREFERENCE_DATE', 'MISSING_GEOREFERENCEDBY', 'MISSING_GEOREFERENCEPROTOCOL', 'MISSING_GEOREFERENCESOURCES', 'MISSING_GEOREFERENCEVERIFICATIONSTATUS'], 'speciesGroups': ['Plants', 'Flowering plants', 'Monocots'], 'spatiallyValid': True, 'recordedBy': [\"O'Brien, Eris\"], 'collectors': [\"O'Brien, Eris\"], 'raw_scientificName': 'Lolium rigidum', 'raw_basisOfRecord': 'HumanObservation', 'raw_vernacularName': 'Wimmera Rye-grass', 'license': 'CC-BY 4.0 (Int)', 'geospatialKosher': 'true', 'latLong': '-36.3133,144.5519', 'point1': '-36,145', 'point01': '-36.3,144.6', 'point001': '-36.31,144.55', 'point0001': '-36.313,144.552', 'point00001': '-36.3133,144.5519', 'collector': [\"O'Brien, Eris\"], 'namesLsid': 'Lolium rigidum|https://id.biodiversity.org.au/node/apni/2919175|Wimmera Ryegrass|Plantae|Poaceae', 'left': 555908, 'right': 555908}\n"
     ]
    }
   ],
   "execution_count": 54
  },
  {
   "metadata": {
    "ExecuteTime": {
     "end_time": "2024-04-08T07:46:36.489420Z",
     "start_time": "2024-04-08T07:46:36.470378Z"
    }
   },
   "cell_type": "code",
   "source": [
    "new_json = []\n",
    "for record in records:\n",
    "    new_rec = {}\n",
    "    new_rec['rye_lat'] = float(record['decimalLatitude'])\n",
    "    new_rec['rye_lon'] = float(record['decimalLongitude'])\n",
    "    new_rec['rye_record_by'] = str(record.get('recordedBy'))\n",
    "    new_rec['rye_date'] = record['eventDate']\n",
    "    new_rec['rye_scientific_name'] = str(record.get('scientificName'))\n",
    "    new_rec['rye_vernacular_name'] = str(record.get('vernacularName'))\n",
    "    new_rec['rye_taxon_concept_id'] = str(record.get('taxonConceptID'))\n",
    "    new_json.append(new_rec)\n",
    "new_df = pd.DataFrame(new_json)\n",
    "# Change the rye_date to datetime\n",
    "new_df['rye_date'] = pd.to_datetime(new_df['rye_date'], unit='ms')\n",
    "new_df['rye_date'] = new_df['rye_date'].dt.strftime('%Y-%m-%dT%H:%M:%S')\n",
    "new_df"
   ],
   "id": "a0def45b3ba9198e",
   "outputs": [
    {
     "data": {
      "text/plain": [
       "    rye_lat    rye_lon                                  rye_record_by  \\\n",
       "0 -36.31330  144.55190                              [\"O'Brien, Eris\"]   \n",
       "1 -37.86550  144.80550                             ['Partington, W.']   \n",
       "2 -34.62472  138.72360  ['Shackley, A. Adrian', 'Mcgregor, J. James']   \n",
       "3 -36.96930  144.99460                                ['Jellie, Zoe']   \n",
       "4 -37.81230  143.66540                             [\"D'Ombrain, Tim\"]   \n",
       "5 -38.17580  146.64750                              ['Hills, Amanda']   \n",
       "6 -36.33380  141.63690                         ['Beauglehole, Cliff']   \n",
       "7 -36.08630  145.76250                             ['Horner, Gillis']   \n",
       "8 -34.98009  138.71672                           ['Fuhlbohm, T. Tim']   \n",
       "9 -33.58766  136.77274       ['Heard, L.M.B. Lee', 'Wise, G.R. Greg']   \n",
       "\n",
       "              rye_date  rye_scientific_name  rye_vernacular_name  \\\n",
       "0  1998-11-04T00:00:00       Lolium rigidum     Wimmera Ryegrass   \n",
       "1  1988-12-02T00:00:00       Lolium rigidum     Wimmera Ryegrass   \n",
       "2  2017-12-21T00:00:00       Lolium rigidum     Wimmera Ryegrass   \n",
       "3  2014-01-14T00:00:00       Lolium rigidum     Wimmera Ryegrass   \n",
       "4  2014-12-02T00:00:00       Lolium perenne  Perennial Rye-grass   \n",
       "5  2001-11-22T00:00:00  Lolium arundinaceum          Tall Fescue   \n",
       "6  1987-03-01T00:00:00       Lolium rigidum     Wimmera Ryegrass   \n",
       "7  2011-11-08T00:00:00       Lolium perenne  Perennial Rye-grass   \n",
       "8  2017-03-30T00:00:00       Lolium perenne  Perennial Rye-grass   \n",
       "9  1998-11-12T00:00:00       Lolium rigidum     Wimmera Ryegrass   \n",
       "\n",
       "                                rye_taxon_concept_id  \n",
       "0   https://id.biodiversity.org.au/node/apni/2919175  \n",
       "1   https://id.biodiversity.org.au/node/apni/2919175  \n",
       "2   https://id.biodiversity.org.au/node/apni/2919175  \n",
       "3   https://id.biodiversity.org.au/node/apni/2919175  \n",
       "4   https://id.biodiversity.org.au/node/apni/2892858  \n",
       "5  https://id.biodiversity.org.au/taxon/apni/5144...  \n",
       "6   https://id.biodiversity.org.au/node/apni/2919175  \n",
       "7   https://id.biodiversity.org.au/node/apni/2892858  \n",
       "8   https://id.biodiversity.org.au/node/apni/2892858  \n",
       "9   https://id.biodiversity.org.au/node/apni/2919175  "
      ],
      "text/html": [
       "<div>\n",
       "<style scoped>\n",
       "    .dataframe tbody tr th:only-of-type {\n",
       "        vertical-align: middle;\n",
       "    }\n",
       "\n",
       "    .dataframe tbody tr th {\n",
       "        vertical-align: top;\n",
       "    }\n",
       "\n",
       "    .dataframe thead th {\n",
       "        text-align: right;\n",
       "    }\n",
       "</style>\n",
       "<table border=\"1\" class=\"dataframe\">\n",
       "  <thead>\n",
       "    <tr style=\"text-align: right;\">\n",
       "      <th></th>\n",
       "      <th>rye_lat</th>\n",
       "      <th>rye_lon</th>\n",
       "      <th>rye_record_by</th>\n",
       "      <th>rye_date</th>\n",
       "      <th>rye_scientific_name</th>\n",
       "      <th>rye_vernacular_name</th>\n",
       "      <th>rye_taxon_concept_id</th>\n",
       "    </tr>\n",
       "  </thead>\n",
       "  <tbody>\n",
       "    <tr>\n",
       "      <th>0</th>\n",
       "      <td>-36.31330</td>\n",
       "      <td>144.55190</td>\n",
       "      <td>[\"O'Brien, Eris\"]</td>\n",
       "      <td>1998-11-04T00:00:00</td>\n",
       "      <td>Lolium rigidum</td>\n",
       "      <td>Wimmera Ryegrass</td>\n",
       "      <td>https://id.biodiversity.org.au/node/apni/2919175</td>\n",
       "    </tr>\n",
       "    <tr>\n",
       "      <th>1</th>\n",
       "      <td>-37.86550</td>\n",
       "      <td>144.80550</td>\n",
       "      <td>['Partington, W.']</td>\n",
       "      <td>1988-12-02T00:00:00</td>\n",
       "      <td>Lolium rigidum</td>\n",
       "      <td>Wimmera Ryegrass</td>\n",
       "      <td>https://id.biodiversity.org.au/node/apni/2919175</td>\n",
       "    </tr>\n",
       "    <tr>\n",
       "      <th>2</th>\n",
       "      <td>-34.62472</td>\n",
       "      <td>138.72360</td>\n",
       "      <td>['Shackley, A. Adrian', 'Mcgregor, J. James']</td>\n",
       "      <td>2017-12-21T00:00:00</td>\n",
       "      <td>Lolium rigidum</td>\n",
       "      <td>Wimmera Ryegrass</td>\n",
       "      <td>https://id.biodiversity.org.au/node/apni/2919175</td>\n",
       "    </tr>\n",
       "    <tr>\n",
       "      <th>3</th>\n",
       "      <td>-36.96930</td>\n",
       "      <td>144.99460</td>\n",
       "      <td>['Jellie, Zoe']</td>\n",
       "      <td>2014-01-14T00:00:00</td>\n",
       "      <td>Lolium rigidum</td>\n",
       "      <td>Wimmera Ryegrass</td>\n",
       "      <td>https://id.biodiversity.org.au/node/apni/2919175</td>\n",
       "    </tr>\n",
       "    <tr>\n",
       "      <th>4</th>\n",
       "      <td>-37.81230</td>\n",
       "      <td>143.66540</td>\n",
       "      <td>[\"D'Ombrain, Tim\"]</td>\n",
       "      <td>2014-12-02T00:00:00</td>\n",
       "      <td>Lolium perenne</td>\n",
       "      <td>Perennial Rye-grass</td>\n",
       "      <td>https://id.biodiversity.org.au/node/apni/2892858</td>\n",
       "    </tr>\n",
       "    <tr>\n",
       "      <th>5</th>\n",
       "      <td>-38.17580</td>\n",
       "      <td>146.64750</td>\n",
       "      <td>['Hills, Amanda']</td>\n",
       "      <td>2001-11-22T00:00:00</td>\n",
       "      <td>Lolium arundinaceum</td>\n",
       "      <td>Tall Fescue</td>\n",
       "      <td>https://id.biodiversity.org.au/taxon/apni/5144...</td>\n",
       "    </tr>\n",
       "    <tr>\n",
       "      <th>6</th>\n",
       "      <td>-36.33380</td>\n",
       "      <td>141.63690</td>\n",
       "      <td>['Beauglehole, Cliff']</td>\n",
       "      <td>1987-03-01T00:00:00</td>\n",
       "      <td>Lolium rigidum</td>\n",
       "      <td>Wimmera Ryegrass</td>\n",
       "      <td>https://id.biodiversity.org.au/node/apni/2919175</td>\n",
       "    </tr>\n",
       "    <tr>\n",
       "      <th>7</th>\n",
       "      <td>-36.08630</td>\n",
       "      <td>145.76250</td>\n",
       "      <td>['Horner, Gillis']</td>\n",
       "      <td>2011-11-08T00:00:00</td>\n",
       "      <td>Lolium perenne</td>\n",
       "      <td>Perennial Rye-grass</td>\n",
       "      <td>https://id.biodiversity.org.au/node/apni/2892858</td>\n",
       "    </tr>\n",
       "    <tr>\n",
       "      <th>8</th>\n",
       "      <td>-34.98009</td>\n",
       "      <td>138.71672</td>\n",
       "      <td>['Fuhlbohm, T. Tim']</td>\n",
       "      <td>2017-03-30T00:00:00</td>\n",
       "      <td>Lolium perenne</td>\n",
       "      <td>Perennial Rye-grass</td>\n",
       "      <td>https://id.biodiversity.org.au/node/apni/2892858</td>\n",
       "    </tr>\n",
       "    <tr>\n",
       "      <th>9</th>\n",
       "      <td>-33.58766</td>\n",
       "      <td>136.77274</td>\n",
       "      <td>['Heard, L.M.B. Lee', 'Wise, G.R. Greg']</td>\n",
       "      <td>1998-11-12T00:00:00</td>\n",
       "      <td>Lolium rigidum</td>\n",
       "      <td>Wimmera Ryegrass</td>\n",
       "      <td>https://id.biodiversity.org.au/node/apni/2919175</td>\n",
       "    </tr>\n",
       "  </tbody>\n",
       "</table>\n",
       "</div>"
      ]
     },
     "execution_count": 78,
     "metadata": {},
     "output_type": "execute_result"
    }
   ],
   "execution_count": 78
  },
  {
   "metadata": {
    "ExecuteTime": {
     "end_time": "2024-04-08T07:47:08.760408Z",
     "start_time": "2024-04-08T07:47:08.194715Z"
    }
   },
   "cell_type": "code",
   "source": [
    "# Read the old data\n",
    "old_df = pd.read_csv('rye_data.csv')\n",
    "old_df.head()"
   ],
   "id": "cdb4628ffca75dcd",
   "outputs": [
    {
     "ename": "FileNotFoundError",
     "evalue": "[Errno 2] No such file or directory: 'rye_data.csv'",
     "output_type": "error",
     "traceback": [
      "\u001B[1;31m---------------------------------------------------------------------------\u001B[0m",
      "\u001B[1;31mFileNotFoundError\u001B[0m                         Traceback (most recent call last)",
      "Cell \u001B[1;32mIn[79], line 2\u001B[0m\n\u001B[0;32m      1\u001B[0m \u001B[38;5;66;03m# Read the old data\u001B[39;00m\n\u001B[1;32m----> 2\u001B[0m old_df \u001B[38;5;241m=\u001B[39m \u001B[43mpd\u001B[49m\u001B[38;5;241;43m.\u001B[39;49m\u001B[43mread_csv\u001B[49m\u001B[43m(\u001B[49m\u001B[38;5;124;43m'\u001B[39;49m\u001B[38;5;124;43mrye_data.csv\u001B[39;49m\u001B[38;5;124;43m'\u001B[39;49m\u001B[43m)\u001B[49m\n\u001B[0;32m      3\u001B[0m old_df\u001B[38;5;241m.\u001B[39mhead()\n",
      "File \u001B[1;32mC:\\Monash\\IEPP\\DataWrangling\\.venv\\lib\\site-packages\\pandas\\io\\parsers\\readers.py:1026\u001B[0m, in \u001B[0;36mread_csv\u001B[1;34m(filepath_or_buffer, sep, delimiter, header, names, index_col, usecols, dtype, engine, converters, true_values, false_values, skipinitialspace, skiprows, skipfooter, nrows, na_values, keep_default_na, na_filter, verbose, skip_blank_lines, parse_dates, infer_datetime_format, keep_date_col, date_parser, date_format, dayfirst, cache_dates, iterator, chunksize, compression, thousands, decimal, lineterminator, quotechar, quoting, doublequote, escapechar, comment, encoding, encoding_errors, dialect, on_bad_lines, delim_whitespace, low_memory, memory_map, float_precision, storage_options, dtype_backend)\u001B[0m\n\u001B[0;32m   1013\u001B[0m kwds_defaults \u001B[38;5;241m=\u001B[39m _refine_defaults_read(\n\u001B[0;32m   1014\u001B[0m     dialect,\n\u001B[0;32m   1015\u001B[0m     delimiter,\n\u001B[1;32m   (...)\u001B[0m\n\u001B[0;32m   1022\u001B[0m     dtype_backend\u001B[38;5;241m=\u001B[39mdtype_backend,\n\u001B[0;32m   1023\u001B[0m )\n\u001B[0;32m   1024\u001B[0m kwds\u001B[38;5;241m.\u001B[39mupdate(kwds_defaults)\n\u001B[1;32m-> 1026\u001B[0m \u001B[38;5;28;01mreturn\u001B[39;00m \u001B[43m_read\u001B[49m\u001B[43m(\u001B[49m\u001B[43mfilepath_or_buffer\u001B[49m\u001B[43m,\u001B[49m\u001B[43m \u001B[49m\u001B[43mkwds\u001B[49m\u001B[43m)\u001B[49m\n",
      "File \u001B[1;32mC:\\Monash\\IEPP\\DataWrangling\\.venv\\lib\\site-packages\\pandas\\io\\parsers\\readers.py:620\u001B[0m, in \u001B[0;36m_read\u001B[1;34m(filepath_or_buffer, kwds)\u001B[0m\n\u001B[0;32m    617\u001B[0m _validate_names(kwds\u001B[38;5;241m.\u001B[39mget(\u001B[38;5;124m\"\u001B[39m\u001B[38;5;124mnames\u001B[39m\u001B[38;5;124m\"\u001B[39m, \u001B[38;5;28;01mNone\u001B[39;00m))\n\u001B[0;32m    619\u001B[0m \u001B[38;5;66;03m# Create the parser.\u001B[39;00m\n\u001B[1;32m--> 620\u001B[0m parser \u001B[38;5;241m=\u001B[39m TextFileReader(filepath_or_buffer, \u001B[38;5;241m*\u001B[39m\u001B[38;5;241m*\u001B[39mkwds)\n\u001B[0;32m    622\u001B[0m \u001B[38;5;28;01mif\u001B[39;00m chunksize \u001B[38;5;129;01mor\u001B[39;00m iterator:\n\u001B[0;32m    623\u001B[0m     \u001B[38;5;28;01mreturn\u001B[39;00m parser\n",
      "File \u001B[1;32mC:\\Monash\\IEPP\\DataWrangling\\.venv\\lib\\site-packages\\pandas\\io\\parsers\\readers.py:1620\u001B[0m, in \u001B[0;36mTextFileReader.__init__\u001B[1;34m(self, f, engine, **kwds)\u001B[0m\n\u001B[0;32m   1617\u001B[0m     \u001B[38;5;28mself\u001B[39m\u001B[38;5;241m.\u001B[39moptions[\u001B[38;5;124m\"\u001B[39m\u001B[38;5;124mhas_index_names\u001B[39m\u001B[38;5;124m\"\u001B[39m] \u001B[38;5;241m=\u001B[39m kwds[\u001B[38;5;124m\"\u001B[39m\u001B[38;5;124mhas_index_names\u001B[39m\u001B[38;5;124m\"\u001B[39m]\n\u001B[0;32m   1619\u001B[0m \u001B[38;5;28mself\u001B[39m\u001B[38;5;241m.\u001B[39mhandles: IOHandles \u001B[38;5;241m|\u001B[39m \u001B[38;5;28;01mNone\u001B[39;00m \u001B[38;5;241m=\u001B[39m \u001B[38;5;28;01mNone\u001B[39;00m\n\u001B[1;32m-> 1620\u001B[0m \u001B[38;5;28mself\u001B[39m\u001B[38;5;241m.\u001B[39m_engine \u001B[38;5;241m=\u001B[39m \u001B[38;5;28;43mself\u001B[39;49m\u001B[38;5;241;43m.\u001B[39;49m\u001B[43m_make_engine\u001B[49m\u001B[43m(\u001B[49m\u001B[43mf\u001B[49m\u001B[43m,\u001B[49m\u001B[43m \u001B[49m\u001B[38;5;28;43mself\u001B[39;49m\u001B[38;5;241;43m.\u001B[39;49m\u001B[43mengine\u001B[49m\u001B[43m)\u001B[49m\n",
      "File \u001B[1;32mC:\\Monash\\IEPP\\DataWrangling\\.venv\\lib\\site-packages\\pandas\\io\\parsers\\readers.py:1880\u001B[0m, in \u001B[0;36mTextFileReader._make_engine\u001B[1;34m(self, f, engine)\u001B[0m\n\u001B[0;32m   1878\u001B[0m     \u001B[38;5;28;01mif\u001B[39;00m \u001B[38;5;124m\"\u001B[39m\u001B[38;5;124mb\u001B[39m\u001B[38;5;124m\"\u001B[39m \u001B[38;5;129;01mnot\u001B[39;00m \u001B[38;5;129;01min\u001B[39;00m mode:\n\u001B[0;32m   1879\u001B[0m         mode \u001B[38;5;241m+\u001B[39m\u001B[38;5;241m=\u001B[39m \u001B[38;5;124m\"\u001B[39m\u001B[38;5;124mb\u001B[39m\u001B[38;5;124m\"\u001B[39m\n\u001B[1;32m-> 1880\u001B[0m \u001B[38;5;28mself\u001B[39m\u001B[38;5;241m.\u001B[39mhandles \u001B[38;5;241m=\u001B[39m \u001B[43mget_handle\u001B[49m\u001B[43m(\u001B[49m\n\u001B[0;32m   1881\u001B[0m \u001B[43m    \u001B[49m\u001B[43mf\u001B[49m\u001B[43m,\u001B[49m\n\u001B[0;32m   1882\u001B[0m \u001B[43m    \u001B[49m\u001B[43mmode\u001B[49m\u001B[43m,\u001B[49m\n\u001B[0;32m   1883\u001B[0m \u001B[43m    \u001B[49m\u001B[43mencoding\u001B[49m\u001B[38;5;241;43m=\u001B[39;49m\u001B[38;5;28;43mself\u001B[39;49m\u001B[38;5;241;43m.\u001B[39;49m\u001B[43moptions\u001B[49m\u001B[38;5;241;43m.\u001B[39;49m\u001B[43mget\u001B[49m\u001B[43m(\u001B[49m\u001B[38;5;124;43m\"\u001B[39;49m\u001B[38;5;124;43mencoding\u001B[39;49m\u001B[38;5;124;43m\"\u001B[39;49m\u001B[43m,\u001B[49m\u001B[43m \u001B[49m\u001B[38;5;28;43;01mNone\u001B[39;49;00m\u001B[43m)\u001B[49m\u001B[43m,\u001B[49m\n\u001B[0;32m   1884\u001B[0m \u001B[43m    \u001B[49m\u001B[43mcompression\u001B[49m\u001B[38;5;241;43m=\u001B[39;49m\u001B[38;5;28;43mself\u001B[39;49m\u001B[38;5;241;43m.\u001B[39;49m\u001B[43moptions\u001B[49m\u001B[38;5;241;43m.\u001B[39;49m\u001B[43mget\u001B[49m\u001B[43m(\u001B[49m\u001B[38;5;124;43m\"\u001B[39;49m\u001B[38;5;124;43mcompression\u001B[39;49m\u001B[38;5;124;43m\"\u001B[39;49m\u001B[43m,\u001B[49m\u001B[43m \u001B[49m\u001B[38;5;28;43;01mNone\u001B[39;49;00m\u001B[43m)\u001B[49m\u001B[43m,\u001B[49m\n\u001B[0;32m   1885\u001B[0m \u001B[43m    \u001B[49m\u001B[43mmemory_map\u001B[49m\u001B[38;5;241;43m=\u001B[39;49m\u001B[38;5;28;43mself\u001B[39;49m\u001B[38;5;241;43m.\u001B[39;49m\u001B[43moptions\u001B[49m\u001B[38;5;241;43m.\u001B[39;49m\u001B[43mget\u001B[49m\u001B[43m(\u001B[49m\u001B[38;5;124;43m\"\u001B[39;49m\u001B[38;5;124;43mmemory_map\u001B[39;49m\u001B[38;5;124;43m\"\u001B[39;49m\u001B[43m,\u001B[49m\u001B[43m \u001B[49m\u001B[38;5;28;43;01mFalse\u001B[39;49;00m\u001B[43m)\u001B[49m\u001B[43m,\u001B[49m\n\u001B[0;32m   1886\u001B[0m \u001B[43m    \u001B[49m\u001B[43mis_text\u001B[49m\u001B[38;5;241;43m=\u001B[39;49m\u001B[43mis_text\u001B[49m\u001B[43m,\u001B[49m\n\u001B[0;32m   1887\u001B[0m \u001B[43m    \u001B[49m\u001B[43merrors\u001B[49m\u001B[38;5;241;43m=\u001B[39;49m\u001B[38;5;28;43mself\u001B[39;49m\u001B[38;5;241;43m.\u001B[39;49m\u001B[43moptions\u001B[49m\u001B[38;5;241;43m.\u001B[39;49m\u001B[43mget\u001B[49m\u001B[43m(\u001B[49m\u001B[38;5;124;43m\"\u001B[39;49m\u001B[38;5;124;43mencoding_errors\u001B[39;49m\u001B[38;5;124;43m\"\u001B[39;49m\u001B[43m,\u001B[49m\u001B[43m \u001B[49m\u001B[38;5;124;43m\"\u001B[39;49m\u001B[38;5;124;43mstrict\u001B[39;49m\u001B[38;5;124;43m\"\u001B[39;49m\u001B[43m)\u001B[49m\u001B[43m,\u001B[49m\n\u001B[0;32m   1888\u001B[0m \u001B[43m    \u001B[49m\u001B[43mstorage_options\u001B[49m\u001B[38;5;241;43m=\u001B[39;49m\u001B[38;5;28;43mself\u001B[39;49m\u001B[38;5;241;43m.\u001B[39;49m\u001B[43moptions\u001B[49m\u001B[38;5;241;43m.\u001B[39;49m\u001B[43mget\u001B[49m\u001B[43m(\u001B[49m\u001B[38;5;124;43m\"\u001B[39;49m\u001B[38;5;124;43mstorage_options\u001B[39;49m\u001B[38;5;124;43m\"\u001B[39;49m\u001B[43m,\u001B[49m\u001B[43m \u001B[49m\u001B[38;5;28;43;01mNone\u001B[39;49;00m\u001B[43m)\u001B[49m\u001B[43m,\u001B[49m\n\u001B[0;32m   1889\u001B[0m \u001B[43m\u001B[49m\u001B[43m)\u001B[49m\n\u001B[0;32m   1890\u001B[0m \u001B[38;5;28;01massert\u001B[39;00m \u001B[38;5;28mself\u001B[39m\u001B[38;5;241m.\u001B[39mhandles \u001B[38;5;129;01mis\u001B[39;00m \u001B[38;5;129;01mnot\u001B[39;00m \u001B[38;5;28;01mNone\u001B[39;00m\n\u001B[0;32m   1891\u001B[0m f \u001B[38;5;241m=\u001B[39m \u001B[38;5;28mself\u001B[39m\u001B[38;5;241m.\u001B[39mhandles\u001B[38;5;241m.\u001B[39mhandle\n",
      "File \u001B[1;32mC:\\Monash\\IEPP\\DataWrangling\\.venv\\lib\\site-packages\\pandas\\io\\common.py:873\u001B[0m, in \u001B[0;36mget_handle\u001B[1;34m(path_or_buf, mode, encoding, compression, memory_map, is_text, errors, storage_options)\u001B[0m\n\u001B[0;32m    868\u001B[0m \u001B[38;5;28;01melif\u001B[39;00m \u001B[38;5;28misinstance\u001B[39m(handle, \u001B[38;5;28mstr\u001B[39m):\n\u001B[0;32m    869\u001B[0m     \u001B[38;5;66;03m# Check whether the filename is to be opened in binary mode.\u001B[39;00m\n\u001B[0;32m    870\u001B[0m     \u001B[38;5;66;03m# Binary mode does not support 'encoding' and 'newline'.\u001B[39;00m\n\u001B[0;32m    871\u001B[0m     \u001B[38;5;28;01mif\u001B[39;00m ioargs\u001B[38;5;241m.\u001B[39mencoding \u001B[38;5;129;01mand\u001B[39;00m \u001B[38;5;124m\"\u001B[39m\u001B[38;5;124mb\u001B[39m\u001B[38;5;124m\"\u001B[39m \u001B[38;5;129;01mnot\u001B[39;00m \u001B[38;5;129;01min\u001B[39;00m ioargs\u001B[38;5;241m.\u001B[39mmode:\n\u001B[0;32m    872\u001B[0m         \u001B[38;5;66;03m# Encoding\u001B[39;00m\n\u001B[1;32m--> 873\u001B[0m         handle \u001B[38;5;241m=\u001B[39m \u001B[38;5;28;43mopen\u001B[39;49m\u001B[43m(\u001B[49m\n\u001B[0;32m    874\u001B[0m \u001B[43m            \u001B[49m\u001B[43mhandle\u001B[49m\u001B[43m,\u001B[49m\n\u001B[0;32m    875\u001B[0m \u001B[43m            \u001B[49m\u001B[43mioargs\u001B[49m\u001B[38;5;241;43m.\u001B[39;49m\u001B[43mmode\u001B[49m\u001B[43m,\u001B[49m\n\u001B[0;32m    876\u001B[0m \u001B[43m            \u001B[49m\u001B[43mencoding\u001B[49m\u001B[38;5;241;43m=\u001B[39;49m\u001B[43mioargs\u001B[49m\u001B[38;5;241;43m.\u001B[39;49m\u001B[43mencoding\u001B[49m\u001B[43m,\u001B[49m\n\u001B[0;32m    877\u001B[0m \u001B[43m            \u001B[49m\u001B[43merrors\u001B[49m\u001B[38;5;241;43m=\u001B[39;49m\u001B[43merrors\u001B[49m\u001B[43m,\u001B[49m\n\u001B[0;32m    878\u001B[0m \u001B[43m            \u001B[49m\u001B[43mnewline\u001B[49m\u001B[38;5;241;43m=\u001B[39;49m\u001B[38;5;124;43m\"\u001B[39;49m\u001B[38;5;124;43m\"\u001B[39;49m\u001B[43m,\u001B[49m\n\u001B[0;32m    879\u001B[0m \u001B[43m        \u001B[49m\u001B[43m)\u001B[49m\n\u001B[0;32m    880\u001B[0m     \u001B[38;5;28;01melse\u001B[39;00m:\n\u001B[0;32m    881\u001B[0m         \u001B[38;5;66;03m# Binary mode\u001B[39;00m\n\u001B[0;32m    882\u001B[0m         handle \u001B[38;5;241m=\u001B[39m \u001B[38;5;28mopen\u001B[39m(handle, ioargs\u001B[38;5;241m.\u001B[39mmode)\n",
      "\u001B[1;31mFileNotFoundError\u001B[0m: [Errno 2] No such file or directory: 'rye_data.csv'"
     ]
    }
   ],
   "execution_count": 79
  },
  {
   "metadata": {
    "ExecuteTime": {
     "end_time": "2024-04-08T07:03:39.277741Z",
     "start_time": "2024-04-08T07:03:39.277741Z"
    }
   },
   "cell_type": "code",
   "source": "",
   "id": "86156abe75099f27",
   "outputs": [],
   "execution_count": null
  }
 ],
 "metadata": {
  "kernelspec": {
   "display_name": "Python 3",
   "language": "python",
   "name": "python3"
  },
  "language_info": {
   "codemirror_mode": {
    "name": "ipython",
    "version": 2
   },
   "file_extension": ".py",
   "mimetype": "text/x-python",
   "name": "python",
   "nbconvert_exporter": "python",
   "pygments_lexer": "ipython2",
   "version": "2.7.6"
  }
 },
 "nbformat": 4,
 "nbformat_minor": 5
}
