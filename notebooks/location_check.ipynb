{
 "cells": [
  {
   "cell_type": "code",
   "execution_count": 1,
   "id": "initial_id",
   "metadata": {
    "collapsed": true,
    "ExecuteTime": {
     "end_time": "2024-04-03T05:48:16.754256Z",
     "start_time": "2024-04-03T05:48:15.886584Z"
    }
   },
   "outputs": [
    {
     "data": {
      "text/plain": "251"
     },
     "execution_count": 1,
     "metadata": {},
     "output_type": "execute_result"
    }
   ],
   "source": [
    "# 导入包\n",
    "import pandas as pd\n",
    "# 读取location_cleaned.json 数据\n",
    "loc_df = pd.read_json('../data/location.json')\n",
    "# 筛选出所有lat和long都为零的数据\n",
    "no_latlong_df = loc_df[(loc_df['latitude'] == 0) & (loc_df['longitude'] == 0)]\n",
    "len(no_latlong_df)"
   ]
  },
  {
   "cell_type": "code",
   "outputs": [],
   "source": [],
   "metadata": {
    "collapsed": false
   },
   "id": "2cd1c296585d0758"
  }
 ],
 "metadata": {
  "kernelspec": {
   "display_name": "Python 3",
   "language": "python",
   "name": "python3"
  },
  "language_info": {
   "codemirror_mode": {
    "name": "ipython",
    "version": 2
   },
   "file_extension": ".py",
   "mimetype": "text/x-python",
   "name": "python",
   "nbconvert_exporter": "python",
   "pygments_lexer": "ipython2",
   "version": "2.7.6"
  }
 },
 "nbformat": 4,
 "nbformat_minor": 5
}
