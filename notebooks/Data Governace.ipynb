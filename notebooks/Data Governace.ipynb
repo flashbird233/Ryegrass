{
 "cells": [
  {
   "cell_type": "code",
   "execution_count": null,
   "id": "initial_id",
   "metadata": {
    "collapsed": true
   },
   "outputs": [],
   "source": "#  This cell is to import packages and will be hidden in the final version\n"
  },
  {
   "metadata": {},
   "cell_type": "markdown",
   "source": [
    "# TP30 Data Governance\n",
    "\n",
    "## 1. Introduction\n"
   ],
   "id": "f75f1092d95ba504"
  },
  {
   "metadata": {},
   "cell_type": "markdown",
   "source": [
    "## Data Processing/Data Cleaning\n",
    "\n",
    "For now, we are only using two \n",
    "\n",
    "#### Location: "
   ],
   "id": "20cdae326a1f8500"
  },
  {
   "metadata": {},
   "cell_type": "code",
   "outputs": [],
   "execution_count": null,
   "source": "",
   "id": "f2568cb221d2dd86"
  }
 ],
 "metadata": {
  "kernelspec": {
   "display_name": "Python 3",
   "language": "python",
   "name": "python3"
  },
  "language_info": {
   "codemirror_mode": {
    "name": "ipython",
    "version": 2
   },
   "file_extension": ".py",
   "mimetype": "text/x-python",
   "name": "python",
   "nbconvert_exporter": "python",
   "pygments_lexer": "ipython2",
   "version": "2.7.6"
  }
 },
 "nbformat": 4,
 "nbformat_minor": 5
}
